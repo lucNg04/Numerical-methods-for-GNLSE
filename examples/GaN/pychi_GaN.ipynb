{
 "cells": [
  {
   "cell_type": "code",
   "execution_count": null,
   "id": "10382f1d1850141",
   "metadata": {
    "collapsed": true
   },
   "outputs": [],
   "source": [
    "import matplotlib.pyplot as plt\n",
    "import numpy as np\n",
    "import os\n",
    "import pandas\n",
    "from scipy.constants import c\n",
    "from scipy.io import loadmat\n",
    "\n",
    "import sys\n",
    "#sys.path.append(os.getcwd() + '../../../')\n",
    "sys.path.append(os.path.abspath(os.path.join(os.path.dirname(__file__), '../../src')))\n",
    "\n",
    "\n",
    "from src.pychi import light,materials,models,solvers\n"
   ]
  },
  {
   "metadata": {},
   "cell_type": "code",
   "outputs": [],
   "execution_count": null,
   "source": [
    "\n",
    "\"\"\"\n",
    "User parameters\n",
    "\"\"\"\n",
    "### Simulation\n",
    "t_pts = 2**16\n",
    "\n",
    "### Light\n",
    "pulse_duration = 80e-15\n",
    "pulse_wavelength = 1.58e-06\n",
    "pulse_energy = 1.056e-11\n",
    "#pulse_energy = 1.056e-10\n",
    "### Waveguide\n",
    "wg_length = 4e-6\n",
    "wg_chi_2 = 20e-12\n",
    "wg_chi_3 = 2.5e-21 # Raman lasing and soliton mode-locking in lithium niobate microresonators\n",
    "wg_a_eff = 1e-12\n",
    "wg_freq, wg_n_eff = np.load('n_eff_data_LiNb.npy')\n",
    "wg_atten=53  #linear attenuation\n",
    "\n"
   ],
   "id": "ea7f4ef09240ff58"
  },
  {
   "metadata": {},
   "cell_type": "code",
   "outputs": [],
   "execution_count": null,
   "source": [
    "\n",
    "\"\"\"\n",
    "Nonlinear propagation\n",
    "\"\"\"\n",
    "waveguide = materials.Waveguide(wg_freq, wg_n_eff, wg_chi_2, wg_chi_3,\n",
    "                                wg_a_eff, wg_length, t_pts=t_pts,atten=wg_atten)\n",
    "pulse = light.Sech(waveguide, pulse_duration, pulse_energy, pulse_wavelength)\n",
    "model = models.SpmChi2Chi3(waveguide, pulse)\n",
    "solver = solvers.Solver(model)\n",
    "solver.solve()\n",
    "\n",
    "\n",
    "\"\"\"\n",
    "Plots\n",
    "\"\"\"\n",
    "pulse.plot_propagation()\n",
    "\n"
   ],
   "id": "initial_id"
  }
 ],
 "metadata": {
  "kernelspec": {
   "display_name": "Python 3",
   "language": "python",
   "name": "python3"
  },
  "language_info": {
   "codemirror_mode": {
    "name": "ipython",
    "version": 2
   },
   "file_extension": ".py",
   "mimetype": "text/x-python",
   "name": "python",
   "nbconvert_exporter": "python",
   "pygments_lexer": "ipython2",
   "version": "2.7.6"
  }
 },
 "nbformat": 4,
 "nbformat_minor": 5
}
